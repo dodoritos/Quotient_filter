{
 "cells": [
  {
   "cell_type": "markdown",
   "id": "f84e4284",
   "metadata": {},
   "source": [
    "# A general-Purpose Counting Filter"
   ]
  },
  {
   "cell_type": "markdown",
   "id": "151c7bce",
   "metadata": {},
   "source": [
    "## Tool box"
   ]
  },
  {
   "cell_type": "code",
   "execution_count": 1,
   "id": "db6707ee",
   "metadata": {},
   "outputs": [
    {
     "name": "stdout",
     "output_type": "stream",
     "text": [
      "01010000110010000000000000000000\n",
      "4\n",
      "9\n"
     ]
    }
   ],
   "source": [
    "import array\n",
    "import sys\n",
    "\n",
    "class BitArray:\n",
    "    def __init__(self,size):\n",
    "        self._bits=8\n",
    "        self._sizeInBits=size\n",
    "        self._A=array.array(\"B\",(0 for i in range(self._index(size)+1)))\n",
    "    def _index(self,index):\n",
    "        return index//self._bits\n",
    "    def _mask(self,index):\n",
    "        return 1<<(index%self._bits)        \n",
    "    def __setitem__(self,indexInBits,value):\n",
    "        if value == 0:\n",
    "            self._A[self._index(indexInBits)]&=~self._mask(indexInBits)\n",
    "        elif value == 1:\n",
    "            self._A[self._index(indexInBits)]|=self._mask(indexInBits)\n",
    "    def __getitem__(self,indexInBits):\n",
    "        if  self._A[self._index(indexInBits)] & self._mask(indexInBits) != 0:\n",
    "            return 1\n",
    "        else:\n",
    "            return 0\n",
    "    def __repr__(self):\n",
    "        return \"\".join(str(self[i]) for i in range(self._sizeInBits))\n",
    "    def __sizeof__(self):\n",
    "        return sys.getsizeof(self._A)\n",
    "    \n",
    "    def rank(self, up_to, starting=0):\n",
    "        \"\"\" Return the number of 1 in the vector up to a position\n",
    "        \"\"\"\n",
    "        rank = 0\n",
    "        for i in range(starting, up_to+1):\n",
    "            rank += self[i]\n",
    "        return rank\n",
    "    def select(self, number_of_one, starting=0):\n",
    "        \"\"\" Return index of the i th one\n",
    "        \"\"\"\n",
    "        index = starting-1\n",
    "        actual_ones = 0\n",
    "        # print(\"select:\", number_of_one, \"ac:\", actual_ones, \"index\", index)\n",
    "        while index < self._sizeInBits and actual_ones < number_of_one:\n",
    "            index += 1\n",
    "            actual_ones += self[index]\n",
    "        # print(\"select:\", number_of_one, \"ac:\", actual_ones, \"index\", index)\n",
    "        return index\n",
    "    \n",
    "bits = BitArray(32)\n",
    "bits[3] = 1\n",
    "bits[1] = 1\n",
    "bits[8] = 1\n",
    "bits[9] = 1\n",
    "bits[12] = 1\n",
    "bits[30] = 1\n",
    "bits[30] = 0\n",
    "\n",
    "print(bits)\n",
    "print(bits.rank(9))\n",
    "print(bits.select(4))\n"
   ]
  },
  {
   "cell_type": "markdown",
   "id": "af462434",
   "metadata": {},
   "source": [
    "## Bloom filter"
   ]
  },
  {
   "cell_type": "code",
   "execution_count": 2,
   "id": "1c7f00c2",
   "metadata": {},
   "outputs": [],
   "source": [
    "class Bloom:\n",
    "    def __init__(self,sizeInBits,hashCount):\n",
    "        self._A=BitArray(sizeInBits)\n",
    "        self._sizeInBits=sizeInBits\n",
    "        self._hashCount=hashCount\n",
    "    def add(self,item):\n",
    "        out = [' ' for i in range(10)]\n",
    "        for h in range(self._hashCount):\n",
    "            self._A[hash((h,item))%self._sizeInBits]=1\n",
    "            out[hash((h,item))%self._sizeInBits]='+'\n",
    "        return \"\".join(out)\n",
    "    def __contains__(self,item):\n",
    "        return all(( self._A[hash((h,item)) % self._sizeInBits] for h in range(self._hashCount)))\n",
    "    def __repr__(self):\n",
    "        return repr(self._A)"
   ]
  },
  {
   "cell_type": "code",
   "execution_count": 3,
   "id": "f73fac79",
   "metadata": {},
   "outputs": [],
   "source": [
    "import random\n",
    "\n",
    "def randomStringOfChars(length):\n",
    "    letters = \"qwertyuiopasdfghjklzxcvbnnm\"\n",
    "    return \"\".join((random.choice(letters) for i in range(length)))"
   ]
  },
  {
   "cell_type": "code",
   "execution_count": 4,
   "id": "f75311eb",
   "metadata": {},
   "outputs": [
    {
     "name": "stdout",
     "output_type": "stream",
     "text": [
      "   ++     \n",
      "00011000\n",
      " ++       \n",
      "01111000\n"
     ]
    }
   ],
   "source": [
    "B = Bloom(8, 2)\n",
    "print(B.add(\"Hello\"))\n",
    "print(B)\n",
    "print(B.add(\"World\"))\n",
    "print(B)"
   ]
  },
  {
   "cell_type": "markdown",
   "id": "f9e610ea",
   "metadata": {},
   "source": [
    "# Quotient filter\n",
    "The quotient filter **hashes** items to a p-bit fingerprint and uses\n",
    "the **upper bits** of the fingerprint to **select a slot** in a table, where it\n",
    "**stores the lower bits** of the fingerprint. It resolves collisions using a\n",
    "variant of linear probing that maintains three metadata bits per slot.\n",
    "During an insertion, elements are shifted around, similar to insertion\n",
    "sort with gaps [6], so that elements are always **stored in order\n",
    "of increasing hash value**."
   ]
  },
  {
   "cell_type": "code",
   "execution_count": 5,
   "id": "1c4f5f32",
   "metadata": {},
   "outputs": [],
   "source": [
    "class HashTable:\n",
    "    def __init__(self,size):\n",
    "        self._A=[ [] for i in range(size)]\n",
    "        \n",
    "    def _bucket(self,key):\n",
    "        return self._A[hash(key)%len(self._A)]\n",
    "    \n",
    "    def __setitem__(self,key,value):\n",
    "        bucket=self._bucket(key)\n",
    "        for item in bucket:\n",
    "            if item[0]==key:\n",
    "                item[1]=value\n",
    "                return\n",
    "        bucket.append([key,value])\n",
    "        \n",
    "    def __getitem__(self,key):\n",
    "        for k,v in self._bucket(key):\n",
    "            if k==key:\n",
    "                return v\n",
    "        raise KeyError(key)\n",
    "        \n",
    "    def __contains__(self,key):\n",
    "        for k,v in self._bucket(key):\n",
    "            if k==key:\n",
    "                return True\n",
    "        return False\n",
    "    \n",
    "    def __delitem__(self,key):\n",
    "        bucket=self._bucket(key)\n",
    "        for i in range(len(bucket)):\n",
    "            if bucket[i][0]==key:\n",
    "                del bucket[i]\n",
    "                return\n",
    "        raise KeyError(str(key))\n",
    "        \n",
    "    def __str__(self):\n",
    "        items=[\"{\"]\n",
    "        for bucket in self._A:\n",
    "            for x in bucket:\n",
    "                items.append(x)\n",
    "        items.append('}')\n",
    "        return \"\".join((str(x) for x in items))\n",
    "\n",
    "    def __repr__(self):\n",
    "        rep=\"\"\n",
    "        for i in range(len(self._A)):\n",
    "            rep+=str(i)+\": \"+str(self._A[i])+\"\\n\"\n",
    "        return rep\n",
    "\n",
    "HASH_SIZE = 8\n",
    "HASH_MAX_VAL = 2 ** HASH_SIZE\n",
    "SIZE = 2 ** (HASH_SIZE//2)\n",
    "\n",
    "\n",
    "def get_high(value, bits_to_remove=HASH_SIZE//2):\n",
    "    return value>>bits_to_remove\n",
    "def get_low(value, bits_to_keep=HASH_SIZE//2):\n",
    "    return value & (1<<bits_to_keep)-1\n",
    "def hash_short(value):\n",
    "    return hash(value) % HASH_MAX_VAL\n",
    "def split(item):\n",
    "    h = hash_short(item)\n",
    "    return get_high(h), get_low(h)\n",
    "def to_bin_str(val, digit=HASH_SIZE//2):\n",
    "    return (\"{:0>\"+str(digit)+\"}\").format(str(bin(val))[2:])\n",
    "\n",
    "\n",
    "\n",
    "class Quotient:\n",
    "    def __init__(self,size=SIZE):\n",
    "        self.slot = [0 for i in range(size)]\n",
    "        self.meta = [0b000 for i in range(size)]\n",
    "        self.size = size\n",
    "        \n",
    "    def add(self,item):\n",
    "        key, value = split(h)\n",
    "        self.slot[key] = value\n",
    "        self.meta[key] |= 0b100\n",
    "        \n",
    "    def __contains__(self,item):\n",
    "        key, value = split(h)\n",
    "        if self.meta[key] == 0:\n",
    "            return False\n",
    "        # Look for the start of the cluster: Scan left\n",
    "        # Until you find is_shifted = 0\n",
    "        run_number = 0\n",
    "        scanning_index = key\n",
    "        while self.meta[scanning_index] & 0b001 != 0:\n",
    "            if self.meta[scanning_index] & 0b100 == 1:\n",
    "                run_number += 1\n",
    "            scanning_index -= 1\n",
    "        \n",
    "        # Scan right. Keep the count of runs we must skip\n",
    "        # - Each slot to the left of the canonical slot\n",
    "        #   having is_occupied set indicates another run\n",
    "        #   to be skipped -> increment running count (done)\n",
    "        # - Each slot having is_continuation clear\n",
    "        #   indicates the start of another run, thus the\n",
    "        #   end of the previous run\n",
    "        #   -> so we decrement the running count.\n",
    "        running_count = 0\n",
    "        while run_number != 0:\n",
    "            if self.meta[scanning_index] & 0b010 == 0:\n",
    "                run_number -= 1\n",
    "            scanning_index += 1\n",
    "        \n",
    "        # When the running count reaches zero\n",
    "        # we are scanning the quotient's run.\n",
    "        \n",
    "        while True:\n",
    "            if self.slot[scanning_index] == value:\n",
    "                return True\n",
    "            scanning_index += 1\n",
    "            if meta[scanning_index+1] & 0b010 != 0:\n",
    "                break\n",
    "\n",
    "        # We can compare the remainder in each slot\n",
    "        # in the run with the reminder we are looking for.\n",
    "        # If found, we report that the key is (probably)\n",
    "        # in the filter otherwise we report that the key\n",
    "        # is definitely not in the filter.\n",
    "    \n",
    "        return False\n",
    "    \n",
    "    def __str__(self):\n",
    "        items=[\"{\"]\n",
    "        for bucket in self._A:\n",
    "            for x in bucket:\n",
    "                items.append(x)\n",
    "        items.append('}')\n",
    "        return \"\".join((str(x) for x in items))\n",
    "\n",
    "    def __repr__(self):\n",
    "        rep=\"{0:<{1}} |meta|{2:^{3}}|\\n\".format(\"Slot\", HASH_SIZE//2, \"Value\", HASH_SIZE//2)\n",
    "        for i in range(self.size):\n",
    "            rep+=\" {:>3} | {:>3}|{:>4} |\\n\".format(i, to_bin_str(self.meta[i],3), str(self.slot[i]))\n",
    "        return rep"
   ]
  },
  {
   "cell_type": "code",
   "execution_count": 6,
   "id": "8628eefe",
   "metadata": {},
   "outputs": [
    {
     "name": "stdout",
     "output_type": "stream",
     "text": [
      "Slot |meta|Value|\n",
      "   0 | 000|   0 |\n",
      "   1 | 000|   0 |\n",
      "   2 | 000|   0 |\n",
      "   3 | 000|   0 |\n",
      "   4 | 000|   0 |\n",
      "   5 | 000|   0 |\n",
      "   6 | 000|   0 |\n",
      "   7 | 000|   0 |\n",
      "   8 | 000|   0 |\n",
      "   9 | 000|   0 |\n",
      "  10 | 000|   0 |\n",
      "  11 | 000|   0 |\n",
      "  12 | 000|   0 |\n",
      "  13 | 000|   0 |\n",
      "  14 | 000|   0 |\n",
      "  15 | 000|   0 |\n",
      "\n"
     ]
    },
    {
     "data": {
      "text/plain": [
       "\"\\nq.add('World')\\nprint(to_bin_str(hash_short('World'), 8))\\nq.add('I am')\\nprint(to_bin_str(hash_short('I am'), 8))\\nq.add('a')\\nprint(to_bin_str(hash_short('a'), 8))\\nq.add('wizzard')\\nprint(to_bin_str(hash_short('wizzard'), 8))\\nprint(repr(q))\\n\""
      ]
     },
     "execution_count": 6,
     "metadata": {},
     "output_type": "execute_result"
    }
   ],
   "source": [
    "q = Quotient()\n",
    "print(repr(q))\n",
    "# q.add('Hello')\n",
    "#print(split('Hello'))\n",
    "#print('Hello' in q)\n",
    "\"\"\"\n",
    "q.add('World')\n",
    "print(to_bin_str(hash_short('World'), 8))\n",
    "q.add('I am')\n",
    "print(to_bin_str(hash_short('I am'), 8))\n",
    "q.add('a')\n",
    "print(to_bin_str(hash_short('a'), 8))\n",
    "q.add('wizzard')\n",
    "print(to_bin_str(hash_short('wizzard'), 8))\n",
    "print(repr(q))\n",
    "\"\"\"\n"
   ]
  },
  {
   "cell_type": "markdown",
   "id": "0cf2e0f4",
   "metadata": {},
   "source": [
    "# Rank and Select Quotient Filter\n",
    "\n",
    "Improve the Quotient filter in 3 ways:\n",
    "- 2.125 bits of metadata per slot\n",
    "- High load of 95%\n",
    "- Metadata operations can be performed using bit vector operations\n",
    "\n",
    "## Rank and Select"
   ]
  },
  {
   "cell_type": "code",
   "execution_count": 7,
   "id": "31ca34b9",
   "metadata": {},
   "outputs": [],
   "source": [
    "class RankSelectQuotienFilter:\n",
    "    def __init__(self, quotient_size, reminder_size):\n",
    "        self.hash_size = quotient_size + reminder_size\n",
    "        self.q_size = quotient_size\n",
    "        self.r_size = reminder_size\n",
    "        self.table_length = 2**self.q_size\n",
    "        if self.r_size <= 8:\n",
    "            self.reminders = array.array(\"B\",(0 for i in range(self.table_length)))\n",
    "        else:\n",
    "            self.reminders = array.array(\"i\",(0 for i in range(self.table_length)))\n",
    "        self.occupied = BitArray(self.table_length)\n",
    "        self.run_ends = BitArray(self.table_length)\n",
    "        \n",
    "        \n",
    "    def RSHash(self, val):\n",
    "        return hash(val) % (1<<self.hash_size)\n",
    "    \n",
    "    def get_quotient(self, val):\n",
    "        return get_high(val, bits_to_remove=self.r_size)\n",
    "    \n",
    "    def get_reminder(self, val):\n",
    "        return get_low(val, bits_to_keep=self.r_size)\n",
    "    \n",
    "    def find_end_of_run(self, q):\n",
    "        rank = self.occupied.rank(q)\n",
    "        return self.run_ends.select(rank)\n",
    "        \n",
    "    \n",
    "    def insert(self, elem):\n",
    "        h = self.RSHash(elem)\n",
    "        q, r = self.get_quotient(h), self.get_reminder(h)\n",
    "        # print(q, r)\n",
    "        # Find end of run for quotient q\n",
    "        select = self.find_end_of_run(q)\n",
    "        # If slot not in use\n",
    "        if q > select:\n",
    "            self.reminders[q] = r\n",
    "            self.run_ends[q] = 1\n",
    "        # If slot in use\n",
    "        else:\n",
    "            select += 1\n",
    "            n = self.first_unused_slot(select)\n",
    "            if n >= self.table_length:\n",
    "                return  # /!\\ Create false NEGATIVES\n",
    "            while n > select:\n",
    "                self.left_shift_metadata_case(n)\n",
    "                n -= 1\n",
    "            self.reminders[select] = r\n",
    "            if self.occupied[q] == 1:\n",
    "                self.run_ends[select - 1] = 0\n",
    "            self.run_ends[select] = 1\n",
    "        self.occupied[q] = 1\n",
    "    \n",
    "    def left_shift_metadata_case(self, n):\n",
    "        self.reminders[n] = self.reminders[n-1]\n",
    "        self.run_ends[n] = self.run_ends[n-1]\n",
    "    \n",
    "    def first_unused_slot(self, x):\n",
    "        select = self.find_end_of_run(x)\n",
    "        while x <= select:\n",
    "            x = select + 1\n",
    "            select = self.find_end_of_run(x)\n",
    "        return x\n",
    "    \n",
    "    def __contains__(self, value):\n",
    "        h = self.RSHash(value)\n",
    "        q, r = self.get_quotient(h), self.get_reminder(h)\n",
    "        # If not occupied -> False\n",
    "        if self.occupied[q] == 0:\n",
    "            return False\n",
    "        # Else\n",
    "        select = self.find_end_of_run(q)\n",
    "        #Run back all the run\n",
    "        while True:\n",
    "            if self.reminders[select] == r:\n",
    "                return True\n",
    "            select -= 1\n",
    "            if select < q or self.run_ends[select] == 1:\n",
    "                break;\n",
    "        return False\n",
    "    \n",
    "    def __repr__(self):\n",
    "        line_1 = \" occupied  \" + \" | \".join(\"{}\".format(self.occupied[i]) for i in range(self.occupied._sizeInBits))\n",
    "        line_2 = \"  run end  \" + \" | \".join(\"{}\".format(self.run_ends[i]) for i in range(self.run_ends._sizeInBits))\n",
    "        line_3 = \"reminders \" + \"|\".join(\"{:^3}\".format(reminder) for reminder in self.reminders)\n",
    "        return line_1 + \"\\n\" + line_2 + \"\\n\" +  line_3 + \"\\n\"\n"
   ]
  },
  {
   "cell_type": "code",
   "execution_count": 10,
   "id": "18be2873",
   "metadata": {
    "scrolled": true
   },
   "outputs": [
    {
     "name": "stdout",
     "output_type": "stream",
     "text": [
      "Inserted: [100, 15, 50, 63, 77, 11, 48, 16, 18, 68]\n",
      " occupied  1 | 1 | 0 | 1 | 1 | 0 | 1 | 0 | 0 | 0 | 0 | 0 | 0 | 0 | 0 | 0\n",
      "  run end  0 | 1 | 0 | 1 | 0 | 0 | 1 | 0 | 1 | 1 | 0 | 0 | 0 | 0 | 0 | 0\n",
      "reminders 15 |11 | 0 | 2 | 2 |15 | 0 |13 | 4 | 4 | 0 | 0 | 0 | 0 | 0 | 0 \n",
      "\n"
     ]
    }
   ],
   "source": [
    "RSQF = RankSelectQuotienFilter(4,4)\n",
    "data = []\n",
    "for i in range(10):\n",
    "    elem = random.randint(10, 100)\n",
    "    RSQF.insert(elem)\n",
    "    data.append(elem)\n",
    "print(\"Inserted:\", data)\n",
    "print(RSQF)\n"
   ]
  },
  {
   "cell_type": "code",
   "execution_count": 11,
   "id": "16032606",
   "metadata": {},
   "outputs": [
    {
     "name": "stdout",
     "output_type": "stream",
     "text": [
      "3.444\n"
     ]
    }
   ],
   "source": [
    "trials = 100000\n",
    "FP = 0\n",
    "for i in range(trials):\n",
    "    FP += random.randint(101, 1000) in RSQF\n",
    "print((FP/trials) * 100)"
   ]
  },
  {
   "cell_type": "markdown",
   "id": "e494f9f2",
   "metadata": {},
   "source": [
    "TODO :\n",
    "- Resize\n",
    "- Merge\n",
    "- Delete\n",
    "\n",
    "**Advantage:**\n",
    "- Only 2 bits of meta data per block\n",
    "\n",
    "**Drawbacks:**\n",
    "- RANK and SELECT are at worst O(n)\n",
    "- Not cache friendly\n",
    "\n",
    "## RSQF With Offset\n",
    "\n",
    "To compute the position of a run, we add an offset array"
   ]
  },
  {
   "cell_type": "code",
   "execution_count": 12,
   "id": "c3270cb6",
   "metadata": {
    "scrolled": false
   },
   "outputs": [
    {
     "name": "stdout",
     "output_type": "stream",
     "text": [
      "inserting 0\n",
      "inserting 1\n",
      "inserting 2\n",
      "inserting 3\n",
      "inserting 4\n",
      "inserting 5\n",
      "inserting 6\n",
      "inserting 7\n",
      "inserting 8\n",
      "inserting 9\n",
      "Offset\n",
      "   offset  0 | 0 | 0 | 0 | 0 | 0 | 0 | 0 | 0 | 0 | 0 | 0 | 0 | 0 | 0 | 0\n",
      " occupied  1 | 1 | 1 | 1 | 1 | 1 | 0 | 0 | 0 | 0 | 0 | 0 | 0 | 0 | 0 | 0\n",
      "  run end  1 | 1 | 1 | 1 | 1 | 1 | 0 | 0 | 0 | 0 | 0 | 0 | 0 | 0 | 0 | 0\n",
      "reminders 15 | 2 | 2 | 0 |13 |11 | 0 | 0 | 0 | 0 | 0 | 0 | 0 | 0 | 0 | 0 \n",
      "\n",
      "\n",
      "Classic\n",
      " occupied  1 | 1 | 1 | 1 | 1 | 1 | 0 | 0 | 0 | 0 | 0 | 0 | 0 | 0 | 0 | 0\n",
      "  run end  0 | 1 | 1 | 1 | 0 | 0 | 1 | 0 | 1 | 1 | 0 | 0 | 0 | 0 | 0 | 0\n",
      "reminders 12 |15 | 2 | 2 | 4 | 3 | 0 |14 |13 |11 | 0 | 0 | 0 | 0 | 0 | 0 \n",
      "\n"
     ]
    }
   ],
   "source": [
    "class RSQF_Offset(RankSelectQuotienFilter):\n",
    "    def __init__(self, r, q):\n",
    "        RankSelectQuotienFilter.__init__(self, r, q)\n",
    "        self.offset_freq = 1\n",
    "        self.num_offset = (self.table_length-1)//self.offset_freq+1\n",
    "        self.offsets = array.array(\"B\",(0 for i in range(self.num_offset)))\n",
    "    \n",
    "    def offset(self, i):  #Never used...\n",
    "        return max(0, self.find_end_of_run(i) - i)\n",
    "    \n",
    "    def left_shift_metadata_case(self, n):\n",
    "        RankSelectQuotienFilter.left_shift_metadata_case(self, n)\n",
    "        if n%self.offset_freq == 0:\n",
    "            self.offsets[n//self.offset_freq] += 1\n",
    "    \n",
    "    def estimate_offset(self, j):\n",
    "        if j % self.offset_freq == 0:\n",
    "            print(\"off\", self.offsets[j//self.offset_freq])\n",
    "            return self.offsets[j//self.offset_freq]-1\n",
    "        else:\n",
    "            previous_offset = j//self.offset_freq\n",
    "            d = self.occupied.rank(j, starting=previous_offset*self.offset_freq)\n",
    "            t = self.run_ends.select(d, starting = previous_offset*self.offset_freq + self.offsets[previous_offset] + 1)\n",
    "            #print(\"d, t =\",d, t)\n",
    "            #off = max(0, previous_offset*self.offset_freq + t - j)\n",
    "            off = t - j\n",
    "            #print(\"offset = \", off)\n",
    "            return off\n",
    "    \n",
    "    def find_end_of_run(self, q):\n",
    "        # print(\"Good position for \", q,\":\", super().find_end_of_run(q))\n",
    "        # print(\"       offset for \", q,\":\", self.estimate_offset(q))\n",
    "        # TODO: Compute it here.\n",
    "        \"\"\"\n",
    "        print(\"Find_end_of_run for q =\", q)\n",
    "        previous_offset_val = self.offsets[(q//self.offset_freq)]\n",
    "        previous_offset_pos = (q//self.offset_freq)*self.offset_freq\n",
    "        print(\"Prev offset\", previous_offset_pos,\"of value\", previous_offset_val)\n",
    "        d = self.occupied.rank(q, previous_offset_pos)\n",
    "        t = self.run_ends.select(d, q + previous_offset_val+1)\n",
    "        print(\"Number of 1 from\", q, \":\", d, \"end run:\", t)\n",
    "        end_run = previous_offset_val + t\n",
    "        print(\"Computed end_run:\", end_run)\n",
    "        print(self)\n",
    "        return end_run\n",
    "        \"\"\"\n",
    "        return self.offsets[q] + q -1\n",
    "    \n",
    "    def __repr__(self):\n",
    "        line_0 = \"   offset  \" + (\" | \" + \"    \"*(self.offset_freq-1)).join(\"{}\".format(self.offsets[i]) for i in range(self.num_offset))\n",
    "        return line_0 + \"\\n\" + RankSelectQuotienFilter.__repr__(self)\n",
    "        \n",
    "\n",
    "RSQF_O = RSQF_Offset(4,4)\n",
    "RSQF_Classic = RankSelectQuotienFilter(4,4)\n",
    "for i in range(10):\n",
    "    print(\"inserting\", i)\n",
    "    elem = random.randint(10, 100)\n",
    "    RSQF_Classic.insert(elem)\n",
    "    RSQF_O.insert(elem)\n",
    "    # print(RSQF_Classic)\n",
    "    # print(RSQF_O)\n",
    "    # print()\n",
    "print(\"Offset\")\n",
    "print(RSQF_O)\n",
    "print(\"\\nClassic\")\n",
    "print(RSQF_Classic)"
   ]
  },
  {
   "cell_type": "markdown",
   "id": "b7bdfeb5",
   "metadata": {},
   "source": [
    "# Tests\n",
    "\n",
    "## Error rate\n",
    "\n",
    "The RSQF has a false positive rate of $2^{-r}$\n",
    "\n",
    "Let's test that with a filter of reminder size $r = 8$ thus false positive rate of at most 0.4%\n",
    "\n",
    "2 filters, of sizes $2^8 = 256$ and $2^{12} = 4096$\n",
    "\n",
    "They says that it suports up to a load of 95%, let's fill them up to 90%\n"
   ]
  },
  {
   "cell_type": "code",
   "execution_count": 13,
   "id": "aad036f6",
   "metadata": {},
   "outputs": [],
   "source": [
    "RSQF_256 = RankSelectQuotienFilter(8, 8)\n",
    "RSQF_4096 = RankSelectQuotienFilter(12, 8)\n",
    "\n",
    "for i in range(int(256*0.90)):\n",
    "    RSQF_256.insert(random.randint(0, 10000000))\n",
    "    \n",
    "for i in range(int(4096*0.90)):\n",
    "    RSQF_4096.insert(random.randint(0, 10000000))\n",
    "    "
   ]
  },
  {
   "cell_type": "code",
   "execution_count": 14,
   "id": "d11fc3e0",
   "metadata": {},
   "outputs": [],
   "source": [
    "def false_positive_rate(RS_filter, trials=100000):\n",
    "    false_positive = 0\n",
    "    for i in range(trials):\n",
    "        data = random.randint(2000000,3000000)\n",
    "        if data in RS_filter:\n",
    "            false_positive += 1\n",
    "    return false_positive/i"
   ]
  },
  {
   "cell_type": "code",
   "execution_count": 26,
   "id": "c9a17359",
   "metadata": {},
   "outputs": [
    {
     "name": "stdout",
     "output_type": "stream",
     "text": [
      " FP 256 = 0.32%\n",
      "FP 4096 = 0.31%\n"
     ]
    }
   ],
   "source": [
    "false_positive_256 = 0\n",
    "false_positive_4096 = 0\n",
    "# print(RSQF_256)\n",
    "# print(RSQF_4096)\n",
    "trials = 20000\n",
    "plot_FP_256 = []\n",
    "plot_FP_4096 = []\n",
    "for i in range(trials):\n",
    "    data = random.randint(2000000,3000000)\n",
    "    if data in RSQF_256:\n",
    "        false_positive_256 += 1\n",
    "        plot_FP_256.append((i, 100*false_positive_256/i))\n",
    "    if data in RSQF_4096:\n",
    "        false_positive_4096 += 1\n",
    "        plot_FP_4096.append((i, 100*false_positive_4096/i))\n",
    "    # print(i)\n",
    "print(\" FP 256 = \" + str((false_positive_256/trials*100)) + \"%\")\n",
    "print(\"FP 4096 = \" + str((false_positive_4096/trials*100)) + \"%\")"
   ]
  },
  {
   "cell_type": "code",
   "execution_count": 27,
   "id": "96ab6b47",
   "metadata": {
    "scrolled": true
   },
   "outputs": [
    {
     "data": {
      "image/png": "[encoded data removed]",
      "text/plain": [
       "<Figure size 432x288 with 1 Axes>"
      ]
     },
     "metadata": {
      "needs_background": "light"
     },
     "output_type": "display_data"
    }
   ],
   "source": [
    "import matplotlib.pyplot as plt\n",
    "import numpy as np\n",
    "\n",
    "\n",
    "fig, ax = plt.subplots()\n",
    "ax.set_ylabel('Error rate (%)')\n",
    "ax.set_xlabel('Number of trials')\n",
    "# ax1.set_title('a sine wave')\n",
    "plt.ylim(0.2,0.5)\n",
    "plt.plot(*zip(*plot_FP_256), label='256')\n",
    "plt.plot(*zip(*plot_FP_4096), label='4096')\n",
    "\n",
    "ax.legend()\n",
    "plt.show()"
   ]
  },
  {
   "cell_type": "markdown",
   "id": "a6b88f65",
   "metadata": {},
   "source": [
    "We see that for both filters, it converges below 0.4% as expected\n",
    "\n",
    "Now let's how the the filter of size 256 fasle positive rate looks for differtents fillings"
   ]
  },
  {
   "cell_type": "code",
   "execution_count": 28,
   "id": "e3cde427",
   "metadata": {},
   "outputs": [
    {
     "name": "stdout",
     "output_type": "stream",
     "text": [
      "25\n",
      "0 / 9\n",
      "1 / 9\n",
      "2 / 9\n",
      "3 / 9\n",
      "4 / 9\n",
      "5 / 9\n",
      "6 / 9\n",
      "7 / 9\n",
      "8 / 9\n",
      "9 / 9\n"
     ]
    }
   ],
   "source": [
    "RSQF_2 = RankSelectQuotienFilter(8,8)\n",
    "plot = []\n",
    "filling_step = int(256*(0.10))\n",
    "print(filling_step)\n",
    "for step in range(10):\n",
    "    print(step, \"/ 9\")\n",
    "    false_positive = false_positive_rate(RSQF_2, trials=100000)*100\n",
    "    plot.append((step*10, false_positive))\n",
    "    for i in range(filling_step):\n",
    "        RSQF_2.insert(random.randint(0, 10000000))\n",
    "false_positive = false_positive_rate(RSQF_2, trials=100000)*100\n",
    "plot.append(((step+1)*10, false_positive))\n"
   ]
  },
  {
   "cell_type": "code",
   "execution_count": 29,
   "id": "e84c4241",
   "metadata": {
    "scrolled": true
   },
   "outputs": [
    {
     "name": "stdout",
     "output_type": "stream",
     "text": [
      "[(0, 0.0), (10, 0.04200042000420004), (20, 0.08500085000850008), (30, 0.1040010400104001), (40, 0.16900169001690019), (50, 0.16400164001640016), (60, 0.2120021200212002), (70, 0.26200262002620023), (80, 0.28200282002820026), (90, 0.35000350003500036), (100, 0.39400394003940037)]\n"
     ]
    },
    {
     "data": {
      "image/png": "[encoded data removed]",
      "text/plain": [
       "<Figure size 432x288 with 1 Axes>"
      ]
     },
     "metadata": {
      "needs_background": "light"
     },
     "output_type": "display_data"
    }
   ],
   "source": [
    "print(plot)\n",
    "fig, ax = plt.subplots()\n",
    "\n",
    "ax.plot(*zip(*plot))\n",
    "ax.set_title('Filter of size 256')\n",
    "ax.set_ylabel('Error rate (%)')\n",
    "ax.set_xlabel('Filling (%)')\n",
    "\n",
    "plt.show()"
   ]
  },
  {
   "cell_type": "markdown",
   "id": "6aaa7692",
   "metadata": {},
   "source": [
    "#### Error rate:  varing the reminder size\n",
    "\n",
    "Let's take filters of size 256 but varying reminder size\n",
    "\n",
    "We fill them up to 80%"
   ]
  },
  {
   "cell_type": "code",
   "execution_count": 30,
   "id": "b99e5d58",
   "metadata": {
    "scrolled": true
   },
   "outputs": [],
   "source": [
    "RSQF_r4 = RankSelectQuotienFilter(8,4)\n",
    "RSQF_r8 = RankSelectQuotienFilter(8,8)\n",
    "RSQF_r12 = RankSelectQuotienFilter(8,12)\n",
    "RSQF_r16 = RankSelectQuotienFilter(8,16)\n",
    "filter_list = [RSQF_r4, RSQF_r8, RSQF_r12, RSQF_r16]\n",
    "false_positive_rates = []\n",
    "for f in filter_list:\n",
    "    for i in range(int(256*0.80)):\n",
    "        f.insert(random.randint(0, 10000000))\n",
    "    false_positive_rates.append(false_positive_rate(f, 500000)*100)\n"
   ]
  },
  {
   "cell_type": "code",
   "execution_count": 31,
   "id": "40279ec2",
   "metadata": {},
   "outputs": [
    {
     "name": "stdout",
     "output_type": "stream",
     "text": [
      "[4.831209662419325, 0.31000062000124, 0.0186000372000744, 0.0024000048000096]\n"
     ]
    },
    {
     "data": {
      "image/png": "[encoded data removed]",
      "text/plain": [
       "<Figure size 432x288 with 1 Axes>"
      ]
     },
     "metadata": {
      "needs_background": "light"
     },
     "output_type": "display_data"
    }
   ],
   "source": [
    "fig, ax = plt.subplots()\n",
    "names = [4, 8, 12, 16]\n",
    "\n",
    "\n",
    "ax.bar(names, false_positive_rates)\n",
    "print(false_positive_rates)\n",
    "def f(x):\n",
    "    return 2**(-x)*100\n",
    "t1 = np.arange(4, 17, 0.5)\n",
    "ax.plot(t1, f(t1), label=\"x^-r\", color='orange', lw=2)\n",
    "\n",
    "ax.set_yscale('log')\n",
    "ax.set_xlabel('Reminder size')\n",
    "ax.set_ylabel('False positive rate (%)')\n",
    "\n",
    "plt.legend()\n",
    "plt.show()"
   ]
  },
  {
   "cell_type": "markdown",
   "id": "52e99de5",
   "metadata": {},
   "source": [
    "## Query time\n",
    "\n",
    "Let's now evaluate the querry time\n",
    "\n",
    "#### Quotient sizes"
   ]
  },
  {
   "cell_type": "code",
   "execution_count": 32,
   "id": "390a705b",
   "metadata": {},
   "outputs": [
    {
     "name": "stdout",
     "output_type": "stream",
     "text": [
      "over\n",
      "0\n",
      "1000\n",
      "2000\n",
      "3000\n",
      "4000\n",
      "5000\n",
      "6000\n",
      "7000\n",
      "8000\n",
      "9000\n"
     ]
    }
   ],
   "source": [
    "RSQF_time_16 = RankSelectQuotienFilter(4, 8)\n",
    "RSQF_time_256 = RankSelectQuotienFilter(8, 8)\n",
    "RSQF_time_4096 = RankSelectQuotienFilter(12, 8)\n",
    "RSQF_time_16384 = RankSelectQuotienFilter(14, 8)\n",
    "\n",
    "\n",
    "for i in range(int(16*0.60)):\n",
    "    RSQF_time_16.insert(random.randint(0, 10000000))\n",
    "for i in range(int(256*0.60)):\n",
    "    RSQF_time_256.insert(random.randint(0, 10000000))\n",
    "for i in range(int(4096*0.60)):\n",
    "    RSQF_time_4096.insert(random.randint(0, 10000000))\n",
    "print(\"over\")\n",
    "for i in range(int(16384*0.60)):\n",
    "    RSQF_time_16384.insert(random.randint(0, 10000000))\n",
    "    if i%1000 == 0:\n",
    "        print(i)"
   ]
  },
  {
   "cell_type": "code",
   "execution_count": 33,
   "id": "05ab3054",
   "metadata": {},
   "outputs": [],
   "source": [
    "import time\n",
    "\n",
    "filters = [RSQF_time_16, RSQF_time_256, RSQF_time_4096, RSQF_time_16384]\n",
    "times = []\n",
    "\n",
    "trials = 1000\n",
    "for f in filters:\n",
    "    start = time.time()\n",
    "    for i in range(trials):\n",
    "        random.randint(0, 1000000) in f\n",
    "    end = time.time()\n",
    "    times.append(end-start)\n",
    "    "
   ]
  },
  {
   "cell_type": "code",
   "execution_count": 34,
   "id": "4757a71e",
   "metadata": {},
   "outputs": [
    {
     "name": "stdout",
     "output_type": "stream",
     "text": [
      "[0.008904457092285156, 0.0740513801574707, 1.0721454620361328, 1.2285590171813965]\n"
     ]
    },
    {
     "data": {
      "image/png": "[encoded data removed]",
      "text/plain": [
       "<Figure size 432x288 with 1 Axes>"
      ]
     },
     "metadata": {
      "needs_background": "light"
     },
     "output_type": "display_data"
    }
   ],
   "source": [
    "import math\n",
    "\n",
    "fig, ax = plt.subplots()\n",
    "# names = [2**4, 2**8, 2**12, 2**14]\n",
    "names = [4, 8, 12, 14]\n",
    "\n",
    "ax.bar(names, times, width = 1)\n",
    "\n",
    "ax.set_xlabel('Quotient size')\n",
    "ax.set_ylabel('Time for 1000 querries (sec)')\n",
    "print(times)\n",
    "plt.show()"
   ]
  },
  {
   "cell_type": "markdown",
   "id": "9172f69d",
   "metadata": {},
   "source": [
    "#### Load factor"
   ]
  },
  {
   "cell_type": "code",
   "execution_count": 35,
   "id": "7de14551",
   "metadata": {},
   "outputs": [],
   "source": [
    "RSQF_load = RankSelectQuotienFilter(8,8)\n",
    "plot = []\n",
    "filling_step = int(2**8*(0.10))\n",
    "trials = 10000\n",
    "steps = 20\n",
    "for step in range(10):\n",
    "    start = time.time()\n",
    "    for i in range(trials):\n",
    "        random.randint(0, 1000000) in RSQF_load\n",
    "    end = time.time()\n",
    "    plot.append((step*10, end-start))\n",
    "    for i in range(filling_step):\n",
    "        RSQF_load.insert(random.randint(0, 10000000))\n",
    "\n",
    "start = time.time()\n",
    "for i in range(trials):\n",
    "    random.randint(0, 1000000) in RSQF_load\n",
    "end = time.time()\n",
    "plot.append(((step+1)*10, end-start))"
   ]
  },
  {
   "cell_type": "code",
   "execution_count": 36,
   "id": "d8f00c8f",
   "metadata": {},
   "outputs": [
    {
     "name": "stdout",
     "output_type": "stream",
     "text": [
      "[0.008904457092285156, 0.0740513801574707, 1.0721454620361328, 1.2285590171813965]\n"
     ]
    },
    {
     "data": {
      "image/png": "[encoded data removed]",
      "text/plain": [
       "<Figure size 432x288 with 1 Axes>"
      ]
     },
     "metadata": {
      "needs_background": "light"
     },
     "output_type": "display_data"
    }
   ],
   "source": [
    "fig, ax = plt.subplots()\n",
    "\n",
    "ax.plot(*zip(*plot))\n",
    "\n",
    "ax.set_title('q = 8, r = 8 ')\n",
    "ax.set_xlabel('Load factor (%)')\n",
    "ax.set_ylabel('Time for 10000 querries (sec)')\n",
    "print(times)\n",
    "plt.show()"
   ]
  },
  {
   "cell_type": "code",
   "execution_count": null,
   "id": "4bacd37a",
   "metadata": {},
   "outputs": [],
   "source": []
  }
 ],
 "metadata": {
  "kernelspec": {
   "display_name": "Python 3",
   "language": "python",
   "name": "python3"
  },
  "language_info": {
   "codemirror_mode": {
    "name": "ipython",
    "version": 3
   },
   "file_extension": ".py",
   "mimetype": "text/x-python",
   "name": "python",
   "nbconvert_exporter": "python",
   "pygments_lexer": "ipython3",
   "version": "3.9.7"
  }
 },
 "nbformat": 4,
 "nbformat_minor": 5
}
